{
  "nbformat": 4,
  "nbformat_minor": 0,
  "metadata": {
    "colab": {
      "provenance": []
    },
    "kernelspec": {
      "name": "python3",
      "display_name": "Python 3"
    },
    "language_info": {
      "name": "python"
    }
  },
  "cells": [
    {
      "cell_type": "markdown",
      "source": [
        "# Data Science Tools and Ecosystem"
      ],
      "metadata": {
        "id": "14MtYD3GG_pP"
      }
    },
    {
      "cell_type": "markdown",
      "source": [
        "## Author\n",
        "Derek Kweku Degbedzui"
      ],
      "metadata": {
        "id": "TE97aAnMOrxM"
      }
    },
    {
      "cell_type": "markdown",
      "source": [
        "In this notebook, Data Science Tools and Ecosystem are summarized."
      ],
      "metadata": {
        "id": "SVrMkoxtHnJd"
      }
    },
    {
      "cell_type": "markdown",
      "source": [
        "**Objectives:**\n",
        "\n",
        "- Popular languages: Python, R, and SQL.\n",
        "- Commonly used Python libraries: Pandas and NumPy.\n",
        "- Some data science tools: RStudio, jupyter, and SPYDER."
      ],
      "metadata": {
        "id": "n2OL7f2aNQTf"
      }
    },
    {
      "cell_type": "markdown",
      "source": [
        "Some of the popular languages that Data Scientists use are:\n",
        "\n",
        "1. Python\n",
        "2. R\n",
        "3. SQL"
      ],
      "metadata": {
        "id": "TWTpGLu6H0C4"
      }
    },
    {
      "cell_type": "markdown",
      "source": [
        "Some of the commonly used libraries used by Data Scientists include:\n",
        "\n",
        "1. Scientific computing libraries: Pandas and NumPy\n",
        "2. Visualization libraries: Matplotlib and Seaborn\n",
        "3. Machine learning and Deep learning libraries: Scikit-learn, Keras, TensorFlow and PyTorch.\n"
      ],
      "metadata": {
        "id": "FxI7HHqOIvYO"
      }
    },
    {
      "cell_type": "markdown",
      "source": [
        "\n",
        "| Data Science Tools |\n",
        "| ---- |\n",
        "| RStudio |\n",
        "| jupyter |\n",
        "| SPYDER |"
      ],
      "metadata": {
        "id": "EPBceEJ_JrYC"
      }
    },
    {
      "cell_type": "markdown",
      "source": [
        "### Below are a few examples of evaluating arithmetic expressions in Python"
      ],
      "metadata": {
        "id": "4sgaXMfTLZoy"
      }
    },
    {
      "cell_type": "code",
      "execution_count": 1,
      "metadata": {
        "colab": {
          "base_uri": "https://localhost:8080/"
        },
        "id": "PWdQeZ1BGzTp",
        "outputId": "d65ca64a-4a58-4f67-9e96-d9bc450d92ff"
      },
      "outputs": [
        {
          "output_type": "execute_result",
          "data": {
            "text/plain": [
              "17"
            ]
          },
          "metadata": {},
          "execution_count": 1
        }
      ],
      "source": [
        "# This a simple arithmetic expression to mutiply then add integers\n",
        "(3*4)+5"
      ]
    },
    {
      "cell_type": "code",
      "source": [
        "# This will convert 200 minutes to hours by diving by 60\n",
        "num_min = 200\n",
        "num_hours = num_min / 60\n",
        "num_hours"
      ],
      "metadata": {
        "colab": {
          "base_uri": "https://localhost:8080/"
        },
        "id": "sBOcDEwqLc6-",
        "outputId": "2c63523b-15b5-4552-a4ca-ae996bc7f97b"
      },
      "execution_count": 2,
      "outputs": [
        {
          "output_type": "execute_result",
          "data": {
            "text/plain": [
              "3.3333333333333335"
            ]
          },
          "metadata": {},
          "execution_count": 2
        }
      ]
    },
    {
      "cell_type": "code",
      "source": [],
      "metadata": {
        "id": "-0Yviy-sNlmW"
      },
      "execution_count": null,
      "outputs": []
    }
  ]
}